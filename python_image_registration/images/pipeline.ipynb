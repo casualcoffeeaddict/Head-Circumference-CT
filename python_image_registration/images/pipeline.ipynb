{
 "cells": [
  {
   "cell_type": "markdown",
   "source": [
    "Extract Files"
   ],
   "metadata": {
    "collapsed": false
   }
  },
  {
   "cell_type": "code",
   "execution_count": 4,
   "metadata": {
    "collapsed": true
   },
   "outputs": [
    {
     "ename": "NameError",
     "evalue": "name '__file__' is not defined",
     "output_type": "error",
     "traceback": [
      "\u001B[1;31m---------------------------------------------------------------------------\u001B[0m",
      "\u001B[1;31mNameError\u001B[0m                                 Traceback (most recent call last)",
      "Input \u001B[1;32mIn [4]\u001B[0m, in \u001B[0;36m<module>\u001B[1;34m\u001B[0m\n\u001B[0;32m      1\u001B[0m \u001B[38;5;66;03m# importing the \"tarfile\" module\u001B[39;00m\n\u001B[0;32m      2\u001B[0m \u001B[38;5;28;01mimport\u001B[39;00m \u001B[38;5;21;01mtarfile\u001B[39;00m\u001B[38;5;241m,\u001B[39m \u001B[38;5;21;01mos\u001B[39;00m\n\u001B[1;32m----> 4\u001B[0m \u001B[38;5;28mdir\u001B[39m \u001B[38;5;241m=\u001B[39m os\u001B[38;5;241m.\u001B[39mpath\u001B[38;5;241m.\u001B[39mdirname(\u001B[38;5;18;43m__file__\u001B[39;49m)\n\u001B[0;32m      5\u001B[0m filename \u001B[38;5;241m=\u001B[39m os\u001B[38;5;241m.\u001B[39mpath\u001B[38;5;241m.\u001B[39mjoin(\u001B[38;5;28mdir\u001B[39m, \u001B[38;5;124m'\u001B[39m\u001B[38;5;124mpython_image_registration/images/3T.tgz\u001B[39m\u001B[38;5;124m'\u001B[39m)\n\u001B[0;32m      7\u001B[0m ct_directory \u001B[38;5;241m=\u001B[39m os\u001B[38;5;241m.\u001B[39mpath\u001B[38;5;241m.\u001B[39mjoin(\u001B[38;5;28mdir\u001B[39m, \u001B[38;5;124m'\u001B[39m\u001B[38;5;124mpython_image_registration/ct_images\u001B[39m\u001B[38;5;124m'\u001B[39m)\n",
      "\u001B[1;31mNameError\u001B[0m: name '__file__' is not defined"
     ]
    }
   ],
   "source": [
    "# importing the \"tarfile\" module\n",
    "import tarfile\n",
    "import os\n",
    "\n",
    "dir = os.path.dirname(__file__)\n",
    "print(dir)\n",
    "\n",
    "# filename = os.path.join(dir, 'python_image_registration/images/3T.tgz')\n",
    "\n",
    "# ct_directory = os.path.join(dir, 'python_image_registration/ct_images')\n",
    "\n",
    "# open file\n",
    "# file = tarfile.open(filename)\n",
    "\n",
    "# extracting file\n",
    "# file.extractall(ct_directory)\n",
    "\n",
    "file.close()"
   ]
  }
 ],
 "metadata": {
  "kernelspec": {
   "display_name": "Python 3",
   "language": "python",
   "name": "python3"
  },
  "language_info": {
   "codemirror_mode": {
    "name": "ipython",
    "version": 2
   },
   "file_extension": ".py",
   "mimetype": "text/x-python",
   "name": "python",
   "nbconvert_exporter": "python",
   "pygments_lexer": "ipython2",
   "version": "2.7.6"
  }
 },
 "nbformat": 4,
 "nbformat_minor": 0
}