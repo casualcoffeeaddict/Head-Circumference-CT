{
 "cells": [
  {
   "cell_type": "markdown",
   "source": [
    "Imports"
   ],
   "metadata": {
    "collapsed": false
   }
  },
  {
   "cell_type": "code",
   "execution_count": null,
   "outputs": [],
   "source": [
    "import tarfile\n",
    "import os, collections\n",
    "\n",
    "import pyelastix"
   ],
   "metadata": {
    "collapsed": false,
    "pycharm": {
     "name": "#%%\n"
    }
   }
  },
  {
   "cell_type": "markdown",
   "source": [
    "Extract Files"
   ],
   "metadata": {
    "collapsed": false
   }
  },
  {
   "cell_type": "code",
   "execution_count": 27,
   "metadata": {
    "collapsed": true
   },
   "outputs": [
    {
     "name": "stdout",
     "output_type": "stream",
     "text": [
      "C:\\Users\\comme\\OneDrive\\Unsorted\\Documents\\GitHub\\Head-Circumference-CT\\python_image_registration\\images\\ct_images\n"
     ]
    }
   ],
   "source": [
    "# importing the \"tarfile\" module#'\n",
    "import tarfile\n",
    "import os, collections\n",
    "# collections.__file__\n",
    "\n",
    "\n",
    "dir = os.getcwd()\n",
    "image_path = os.path.join(dir, 'images', '3T.tgz')\n",
    "\n",
    "ct_image_path = os.path.join(dir, 'ct_images')\n",
    "print(ct_image_path)\n",
    "# open gfdgdfgdsfh\n",
    "file = tarfile.open(r'C:\\Users\\comme\\OneDrive\\Unsorted\\Documents\\GitHub\\Head-Circumference-CT\\python_image_registration\\images\\hreet.tgz')\n",
    "\n",
    "# extracting file\n",
    "file.extractall(ct_image_path)\n",
    "\n",
    "file.close()"
   ]
  },
  {
   "cell_type": "code",
   "execution_count": null,
   "outputs": [],
   "source": [],
   "metadata": {
    "collapsed": false,
    "pycharm": {
     "name": "#%%\n"
    }
   }
  }
 ],
 "metadata": {
  "kernelspec": {
   "display_name": "Python 3",
   "language": "python",
   "name": "python3"
  },
  "language_info": {
   "codemirror_mode": {
    "name": "ipython",
    "version": 2
   },
   "file_extension": ".py",
   "mimetype": "text/x-python",
   "name": "python",
   "nbconvert_exporter": "python",
   "pygments_lexer": "ipython2",
   "version": "2.7.6"
  }
 },
 "nbformat": 4,
 "nbformat_minor": 0
}